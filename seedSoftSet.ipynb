{
 "cells": [
  {
   "cell_type": "code",
   "execution_count": 140,
   "metadata": {},
   "outputs": [],
   "source": [
    "import pandas as pd\n",
    "import random\n",
    "import numpy as np\n",
    "import math\n",
    "seeds = pd.read_csv('seeds.csv')"
   ]
  },
  {
   "cell_type": "code",
   "execution_count": 141,
   "metadata": {},
   "outputs": [],
   "source": [
    "class ProcessingData:\n",
    "    \n",
    "    @staticmethod\n",
    "    def shuffleData(base):\n",
    "        for x in range(len(base)-1,0,-1):\n",
    "            newPlace = random.randint(0,x-1)\n",
    "            base.loc[x],base.loc[newPlace]=base.loc[newPlace],base.loc[x]\n",
    "            \n",
    "    @staticmethod\n",
    "    def normalizeData(base):\n",
    "        base.iloc[:,:-1] = (base.iloc[:,:-1]-base.iloc[:,:-1].min())/(base.iloc[:,:-1].max()-base.iloc[:,:-1].min())\n",
    "\n",
    "    @staticmethod\n",
    "    def splitData(base,x,y):\n",
    "        n = int(len(base)*x/100)\n",
    "        base_tren = base[:n]\n",
    "        base_valid = base[n:]\n",
    "        return(base_tren,base_valid)"
   ]
  },
  {
   "cell_type": "code",
   "execution_count": 142,
   "metadata": {},
   "outputs": [],
   "source": [
    "seedsEdit = seeds.copy()\n",
    "\n",
    "ProcessingData.shuffleData(seedsEdit)\n",
    "ProcessingData.normalizeData(seedsEdit)\n",
    "trening_data,validate_data = ProcessingData.splitData(seedsEdit,70,30)"
   ]
  },
  {
   "cell_type": "code",
   "execution_count": 143,
   "metadata": {},
   "outputs": [],
   "source": [
    "class SoftSet:\n",
    "    \n",
    "    @staticmethod\n",
    "    def recoverTreningData(data):\n",
    "        sortedData = []\n",
    "        sort = data.groupby(data.Type)\n",
    "        sortedData.append(sort.get_group(1))\n",
    "        sortedData.append(sort.get_group(2))\n",
    "        sortedData.append(sort.get_group(3))\n",
    "\n",
    "        return sortedData\n",
    "\n",
    "    @staticmethod\n",
    "    def meanMaker(sortedData):\n",
    "        meanTable = []\n",
    "        for j in range(len(sortedData)):\n",
    "            meanTable.append(sortedData[j].loc[:,sortedData[j].columns != \"Type\"].mean(numeric_only=True).tolist())\n",
    "        return meanTable\n",
    "\n",
    "    @staticmethod\n",
    "    def make10Table(data,meanTable):\n",
    "        oneZeroTable = []\n",
    "        for j in range(len(data)):\n",
    "            speciesTable = []\n",
    "            for k in range(len(data[j].columns)-1):\n",
    "                smaller = data[j][data[j].iloc[:,k] < meanTable[j][k]].count()\n",
    "                bigger = len(data[j]) - smaller\n",
    "                \n",
    "                if smaller[k] > bigger[k]:\n",
    "                    speciesTable.extend([1,0])\n",
    "                else:\n",
    "                     speciesTable.extend([0,1])\n",
    "            oneZeroTable.append(speciesTable)\n",
    "        return oneZeroTable\n",
    "\n",
    "    @staticmethod\n",
    "    def softSet(validate_data,oneZeroTable,meanTable):\n",
    "        correct = 0\n",
    "        varieties = [1,2,3]\n",
    "        for i in range(len(validate_data)):\n",
    "            trueName = validate_data.iloc[i].Type\n",
    "            oneZeroValidate = []\n",
    "            for j in range(len(meanTable)):\n",
    "                oneZeroValidateOne = []\n",
    "                for k in range(len(validate_data.iloc[i])-1):\n",
    "                    if validate_data.iloc[i][k] < meanTable[j][k]:\n",
    "                        oneZeroValidateOne.extend([1,0])\n",
    "                    else:\n",
    "                        oneZeroValidateOne.extend([0,1])\n",
    "                oneZeroValidate.append(oneZeroValidateOne)\n",
    "                 \n",
    "            tableOfSums = []\n",
    "            for j in range(len(oneZeroValidate)):\n",
    "                suma = 0\n",
    "                for sum in range(len(oneZeroValidate[j])):\n",
    "                    suma+=oneZeroValidate[j][sum]*oneZeroTable[j][sum]\n",
    "                tableOfSums.append(suma)\n",
    "                \n",
    "\n",
    "            guessedName = varieties[np.argmax(tableOfSums)]\n",
    "\n",
    "            if guessedName == trueName:\n",
    "                correct+=1\n",
    "        return correct,correct/len(validate_data)*100"
   ]
  },
  {
   "cell_type": "code",
   "execution_count": 144,
   "metadata": {},
   "outputs": [
    {
     "name": "stdout",
     "output_type": "stream",
     "text": [
      "14/60 accuracy => 23.33%\n"
     ]
    }
   ],
   "source": [
    "sortedData = SoftSet.recoverTreningData(trening_data)\n",
    "meanTable = SoftSet.meanMaker(sortedData)\n",
    "oneZeroTable = SoftSet.make10Table(sortedData,meanTable)\n",
    "correct, accuracy = SoftSet.softSet(validate_data,oneZeroTable,meanTable)\n",
    "print(\"{}/{} accuracy => {:.2f}%\".format(correct,len(validate_data),accuracy))"
   ]
  }
 ],
 "metadata": {
  "interpreter": {
   "hash": "2848809a0406457d19d6c5e03bd7c1c65a9a4b3ca3756e5f289df3d38d677978"
  },
  "kernelspec": {
   "display_name": "Python 3.10.0 64-bit",
   "language": "python",
   "name": "python3"
  },
  "language_info": {
   "codemirror_mode": {
    "name": "ipython",
    "version": 3
   },
   "file_extension": ".py",
   "mimetype": "text/x-python",
   "name": "python",
   "nbconvert_exporter": "python",
   "pygments_lexer": "ipython3",
   "version": "3.10.0"
  },
  "orig_nbformat": 4
 },
 "nbformat": 4,
 "nbformat_minor": 2
}
