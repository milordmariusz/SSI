{
 "cells": [
  {
   "cell_type": "code",
   "execution_count": 229,
   "metadata": {},
   "outputs": [],
   "source": [
    "import pandas as pd\n",
    "import seaborn as sns\n",
    "import random\n",
    "import numpy as np\n",
    "import math\n",
    "iris = pd.read_csv('iris.csv')\n",
    "\n",
    "class ProcessingData:\n",
    "    \n",
    "    @staticmethod\n",
    "    def shuffle(base):\n",
    "        for x in range(len(base)-1,0,-1):\n",
    "            newPlace = random.randint(0,x-1)\n",
    "            base.loc[x],base.loc[newPlace]=base.loc[newPlace],base.loc[x]\n",
    "            \n",
    "    @staticmethod\n",
    "    def normalize(base):\n",
    "        base.iloc[:,:-1] = (base.iloc[:,:-1]-base.iloc[:,:-1].min())/(base.iloc[:,:-1].max()-base.iloc[:,:-1].min())\n",
    "\n",
    "    @staticmethod\n",
    "    def devide(base):\n",
    "        n = int(len(base)*0.7)\n",
    "        base_tren = base[:n]\n",
    "        base_valid = base[n:]\n",
    "        return(base_tren,base_valid)\n",
    "\n",
    "class Bayes:\n",
    "    \n",
    "    @staticmethod\n",
    "    def recoverTreningData(data):\n",
    "        sortedData = [[],[],[]]\n",
    "\n",
    "        for i in range(len(data)):\n",
    "            current = data.iloc[i]\n",
    "            if current.variety == 'Setosa':\n",
    "                sortedData[0].append(current)\n",
    "            elif current.variety == 'Versicolor':\n",
    "                sortedData[1].append(current)\n",
    "            elif current.variety == 'Virginica':\n",
    "                sortedData[2].append(current)\n",
    "\n",
    "        return sortedData\n",
    "\n",
    "    @staticmethod\n",
    "    def meanMaker(sortedData):\n",
    "        meanTable = []\n",
    "        for j in range(0,len(sortedData)):\n",
    "            speciesTable = []\n",
    "            for k in range(0,4):\n",
    "                m = 0\n",
    "                for l in range(len(sortedData[j])):\n",
    "                    m += sortedData[j][l][k]\n",
    "                speciesTable.append(m/(len(sortedData[j])))\n",
    "            meanTable.append(speciesTable)\n",
    "        return meanTable\n",
    "\n",
    "    @staticmethod\n",
    "    def make10Table(data,meanTable):\n",
    "        oneZeroTable = []\n",
    "        for j in range(0,3):\n",
    "            speciesTable = []\n",
    "            for k in range(0,4):\n",
    "                smaller = 0\n",
    "                bigger = 0\n",
    "                for l in range(len(sortedData[j])):\n",
    "                    if sortedData[j][l][k] < meanTable[j][k]:\n",
    "                        smaller += 1\n",
    "                    else:\n",
    "                        bigger += 1\n",
    "                if smaller > bigger:\n",
    "                    speciesTable.append(1)\n",
    "                    speciesTable.append(0)\n",
    "                else:\n",
    "                    speciesTable.append(0)\n",
    "                    speciesTable.append(1)\n",
    "            oneZeroTable.append(speciesTable)\n",
    "        return oneZeroTable\n",
    "\n",
    "    @staticmethod\n",
    "    def vibecheck(validate_data,oneZeroTable,meanTable):\n",
    "        correct = 0\n",
    "        trueName = \"\"\n",
    "        guessed = \"\"\n",
    "        for i in range(len(validate_data)):\n",
    "            trueName = validate_data.iloc[i].variety\n",
    "            oneZeroValidate = []\n",
    "            for j in range(len(meanTable)):\n",
    "                oneZeroValidateOne = []\n",
    "                for k in range(0,len(validate_data.iloc[i])-1):\n",
    "                    if validate_data.iloc[i][k] < meanTable[j][k]:\n",
    "                        oneZeroValidateOne.append(1)\n",
    "                        oneZeroValidateOne.append(0)\n",
    "                    else:\n",
    "                        oneZeroValidateOne.append(0)\n",
    "                        oneZeroValidateOne.append(1)\n",
    "                oneZeroValidate.append(oneZeroValidateOne)\n",
    "                 \n",
    "            tableOfSums = []\n",
    "            for j in range(len(oneZeroValidate)):\n",
    "                suma = 0\n",
    "                for sum in range(len(oneZeroValidate[j])):\n",
    "                    suma+=oneZeroValidate[j][sum]*oneZeroTable[j][sum]\n",
    "                tableOfSums.append(suma)\n",
    "            index = max(tableOfSums)\n",
    "            if index == 0:\n",
    "                guessed = \"Setosa\"\n",
    "            elif index == 1:\n",
    "                guessed = \"Versicolor\"\n",
    "            else:\n",
    "                guessed = \"Virginica\"\n",
    "            \n",
    "            if guessed == trueName:\n",
    "                correct+=1\n",
    "        return correct,correct/len(validate_data)*100\n"
   ]
  },
  {
   "cell_type": "code",
   "execution_count": 230,
   "metadata": {},
   "outputs": [],
   "source": [
    "irisEdit = iris.copy()\n",
    "\n",
    "ProcessingData.shuffle(irisEdit)\n",
    "ProcessingData.normalize(irisEdit)\n",
    "trening_data,validate_data = ProcessingData.devide(irisEdit)"
   ]
  },
  {
   "cell_type": "code",
   "execution_count": 231,
   "metadata": {},
   "outputs": [],
   "source": [
    "sortedData = Bayes.recoverTreningData(trening_data)"
   ]
  },
  {
   "cell_type": "code",
   "execution_count": 232,
   "metadata": {
    "tags": []
   },
   "outputs": [],
   "source": [
    "meanTable = Bayes.meanMaker(sortedData)"
   ]
  },
  {
   "cell_type": "code",
   "execution_count": 233,
   "metadata": {
    "tags": []
   },
   "outputs": [],
   "source": [
    "oneZeroTable = Bayes.make10Table(sortedData,meanTable)"
   ]
  },
  {
   "cell_type": "code",
   "execution_count": 234,
   "metadata": {
    "tags": []
   },
   "outputs": [
    {
     "output_type": "stream",
     "name": "stdout",
     "text": "18/45 accuracy => 40.00%\n"
    }
   ],
   "source": [
    "correct, accuracy = Bayes.vibecheck(validate_data,oneZeroTable,meanTable)\n",
    "print(\"{}/{} accuracy => {:.2f}%\".format(correct,len(validate_data),accuracy))"
   ]
  }
 ],
 "metadata": {
  "language_info": {
   "codemirror_mode": {
    "name": "ipython",
    "version": 3
   },
   "file_extension": ".py",
   "mimetype": "text/x-python",
   "name": "python",
   "nbconvert_exporter": "python",
   "pygments_lexer": "ipython3",
   "version": "3.10.0-final"
  },
  "orig_nbformat": 2,
  "kernelspec": {
   "name": "python310064bit336bb48a32f447d5949020435f5da855",
   "display_name": "Python 3.10.0 64-bit"
  }
 },
 "nbformat": 4,
 "nbformat_minor": 2
}