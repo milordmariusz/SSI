{
 "cells": [
  {
   "cell_type": "code",
   "execution_count": 48,
   "id": "a654b8d2",
   "metadata": {},
   "outputs": [],
   "source": [
    "import pandas as pd\n",
    "import seaborn as sns\n",
    "import random\n",
    "import numpy as np\n",
    "iris = pd.read_csv('iris.csv')\n",
    "\n",
    "class ProcessingData:\n",
    "    \n",
    "    @staticmethod\n",
    "    def shuffle(base):\n",
    "        for x in range(len(base)-1,0,-1):\n",
    "            newPlace = random.randint(0,x-1)\n",
    "            base.loc[x],base.loc[newPlace]=base.loc[newPlace],base.loc[x]\n",
    "            \n",
    "    @staticmethod\n",
    "    def normalize(base):\n",
    "        base.iloc[:,:-1] = (base.iloc[:,:-1]-base.iloc[:,:-1].min())/(base.iloc[:,:-1].max()-base.iloc[:,:-1].min())\n",
    "\n",
    "        \n",
    "    @staticmethod\n",
    "    def devide(base):\n",
    "        n = int(len(base)*70/100)\n",
    "        base_tren = base[:n]\n",
    "        base_valid = base[n:]\n",
    "        return(base_tren,base_valid)\n",
    "\n",
    "class KNN:\n",
    "\n",
    "    def distance(x, y, m):\n",
    "        dist = 0\n",
    "        for i in range(len(y)-1):\n",
    "            dist += abs(x[i]-y[i])**m\n",
    "        dist = float(dist**(1/m))\n",
    "        return dist\n",
    "\n",
    "    @staticmethod\n",
    "    def sorting(distances, trainList):\n",
    "        trainBase = trainList.copy()\n",
    "        for i in range(len(trainBase)):\n",
    "            ready = True\n",
    "            for j in range(len(trainBase)-i-1):\n",
    "                if distances[j]>distances[j+1]:\n",
    "                    distances[j], distances[j+1] = distances[j+1], distances[j]\n",
    "                    trainBase.iloc[j], trainBase.iloc[j+1] = trainBase.iloc[j+1], trainBase.iloc[j]\n",
    "                    ready = False\n",
    "            if ready:\n",
    "                break\n",
    "        return distances, trainBase\n",
    "\n",
    "    @staticmethod\n",
    "    def clustering(sample, data, k, m):\n",
    "        corrected = 0 #ile mądry komputer zgadną poprawnie\n",
    "        n = len(sample)  #Długość bazy testowej\n",
    "        for irisNum in range(n):\n",
    "            testSample = sample.iloc[irisNum] #Biorę jeden kwiatek z walidacyjnego \n",
    "            realIris = sample.iloc[irisNum].variety #Zapisuję jego prawdziwą nazwę do zmiennej\n",
    "            classes = {\"Setosa\": 0, \"Virginica\": 0, \"Versicolor\": 0}\n",
    "            \n",
    "            distances = [] # lista odległości do wszystkich kwiatków w zbiorze testowym\n",
    "            for i in range(len(data)): #dla każdej wartości w zbiorze testowym\n",
    "                distances.append(KNN.distance(testSample,data.iloc[i],m)) #obliczamy odległość dla danego kwiatka z bazy testowej\n",
    "            \n",
    "            distances, data = KNN.sorting(distances, data) #Sortowanie\n",
    "\n",
    "            for i in range(0,k,1): #Biorę tyle kwiatków z najmniejszą odległością ile wynosi k\n",
    "                classes[data.iloc[i].variety] +=1 #dodaję jeden dla nazwy która ma najmniejszą odległość\n",
    "            \n",
    "            winnerIris = max(classes,key=classes.get) # wyzancz zwycięzce w głosowaniu \"Jaki to kwiatek\"\n",
    "            if winnerIris == realIris: \n",
    "                corrected +=1 #Jeżeli zgadł to dodaj 1 do poprawnie odgadniętych\n",
    "\n",
    "        accuracy = corrected / len(sample)*100\n",
    "\n",
    "        return accuracy\n",
    "    \n",
    "        \n",
    "irisEdit = iris.copy()\n",
    "\n",
    "ProcessingData.shuffle(irisEdit)\n",
    "ProcessingData.normalize(irisEdit)\n",
    "trening_data,validate_data = ProcessingData.devide(irisEdit)"
   ]
  },
  {
   "cell_type": "code",
   "execution_count": 49,
   "id": "6017810f",
   "metadata": {},
   "outputs": [
    {
     "name": "stdout",
     "output_type": "stream",
     "text": [
      "k=2 m=2 => Dokładność - 95.56%\n",
      "k=3 m=2 => Dokładność - 100.00%\n",
      "k=4 m=2 => Dokładność - 100.00%\n"
     ]
    }
   ],
   "source": [
    "m = 2\n",
    "for k in range (2,5):\n",
    "    print(\"k={} m={} => Dokładność - {:.2f}%\".format(k,m,KNN.clustering(validate_data,trening_data,k,m)))"
   ]
  }
 ],
 "metadata": {
  "kernelspec": {
   "display_name": "Python 3 (ipykernel)",
   "language": "python",
   "name": "python3"
  },
  "language_info": {
   "codemirror_mode": {
    "name": "ipython",
    "version": 3
   },
   "file_extension": ".py",
   "mimetype": "text/x-python",
   "name": "python",
   "nbconvert_exporter": "python",
   "pygments_lexer": "ipython3",
   "version": "3.10.0"
  }
 },
 "nbformat": 4,
 "nbformat_minor": 5
}
