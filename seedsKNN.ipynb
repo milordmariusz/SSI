{
 "cells": [
  {
   "cell_type": "code",
   "execution_count": 20,
   "metadata": {},
   "outputs": [],
   "source": [
    "import pandas as pd\n",
    "import random\n",
    "import numpy as np\n",
    "import math\n",
    "seeds = pd.read_csv('seeds.csv')"
   ]
  },
  {
   "cell_type": "code",
   "execution_count": 21,
   "metadata": {},
   "outputs": [],
   "source": [
    "class ProcessingData:\n",
    "    \n",
    "    @staticmethod\n",
    "    def shuffleData(base):\n",
    "        for x in range(len(base)-1,0,-1):\n",
    "            newPlace = random.randint(0,x-1)\n",
    "            base.loc[x],base.loc[newPlace]=base.loc[newPlace],base.loc[x]\n",
    "            \n",
    "    @staticmethod\n",
    "    def normalizeData(base):\n",
    "        base.iloc[:,:-1] = (base.iloc[:,:-1]-base.iloc[:,:-1].min())/(base.iloc[:,:-1].max()-base.iloc[:,:-1].min())\n",
    "\n",
    "    @staticmethod\n",
    "    def splitData(base,x,y):\n",
    "        n = int(len(base)*x/100)\n",
    "        base_tren = base[:n]\n",
    "        base_valid = base[n:]\n",
    "        return(base_tren,base_valid)"
   ]
  },
  {
   "cell_type": "code",
   "execution_count": 22,
   "metadata": {},
   "outputs": [],
   "source": [
    "seedsEdit = seeds.copy()\n",
    "\n",
    "ProcessingData.shuffleData(seedsEdit)\n",
    "ProcessingData.normalizeData(seedsEdit)\n",
    "trening_data,validate_data = ProcessingData.splitData(seedsEdit,70,30)"
   ]
  },
  {
   "cell_type": "code",
   "execution_count": 23,
   "metadata": {},
   "outputs": [],
   "source": [
    "class KNN:\n",
    "\n",
    "    def distance(x, y):\n",
    "        dist = 0\n",
    "        for i in range(len(y)-1):\n",
    "            dist += abs(x[i]-y[i])\n",
    "        return dist\n",
    "\n",
    "    @staticmethod   \n",
    "    def GetDistance(v):\n",
    "          return v[1]\n",
    "\n",
    "    @staticmethod\n",
    "    def clustering(validate_data, training_data, k):\n",
    "        correct = 0\n",
    "        for sampleId in range(len(validate_data)):\n",
    "            distances = list()\n",
    "            sample = validate_data.iloc[sampleId]\n",
    "            trueName = int(sample.Type)\n",
    "            for i in range(len(training_data)):\n",
    "                distance = KNN.distance(sample,training_data.iloc[i])\n",
    "                distances.append((training_data.iloc[i],distance))\n",
    "                \n",
    "            distances.sort(key=KNN.GetDistance)\n",
    "            \n",
    "            classes = {1:0,2:0,3:0}\n",
    "            for i in range(k):\n",
    "                classes[int(distances[i][0].Type)] +=1\n",
    "\n",
    "            if trueName ==  max(classes, key=classes.get):\n",
    "                correct+=1\n",
    "        return correct/len(validate_data)*100"
   ]
  },
  {
   "cell_type": "code",
   "execution_count": 24,
   "metadata": {},
   "outputs": [
    {
     "name": "stdout",
     "output_type": "stream",
     "text": [
      "k=4 => Dokładność - 95.00%\n"
     ]
    }
   ],
   "source": [
    "print(\"k={} => Dokładność - {:.2f}%\".format(4,KNN.clustering(validate_data,trening_data,4)))"
   ]
  }
 ],
 "metadata": {
  "interpreter": {
   "hash": "2848809a0406457d19d6c5e03bd7c1c65a9a4b3ca3756e5f289df3d38d677978"
  },
  "kernelspec": {
   "display_name": "Python 3.10.0 64-bit",
   "language": "python",
   "name": "python3"
  },
  "language_info": {
   "codemirror_mode": {
    "name": "ipython",
    "version": 3
   },
   "file_extension": ".py",
   "mimetype": "text/x-python",
   "name": "python",
   "nbconvert_exporter": "python",
   "pygments_lexer": "ipython3",
   "version": "3.10.0"
  },
  "orig_nbformat": 4
 },
 "nbformat": 4,
 "nbformat_minor": 2
}
