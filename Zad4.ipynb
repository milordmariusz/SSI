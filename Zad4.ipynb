{
 "cells": [
  {
   "cell_type": "code",
   "execution_count": 235,
   "metadata": {
    "tags": []
   },
   "outputs": [],
   "source": [
    "import pandas as pd\n",
    "import seaborn as sns\n",
    "import random\n",
    "import numpy as np\n",
    "import math\n",
    "iris = pd.read_csv('iris.csv')\n",
    "\n",
    "class ProcessingData:\n",
    "    \n",
    "    @staticmethod\n",
    "    def shuffle(base):\n",
    "        for x in range(len(base)-1,0,-1):\n",
    "            newPlace = random.randint(0,x-1)\n",
    "            base.loc[x],base.loc[newPlace]=base.loc[newPlace],base.loc[x]\n",
    "            \n",
    "    @staticmethod\n",
    "    def normalize(base):\n",
    "        base.iloc[:,:-1] = (base.iloc[:,:-1]-base.iloc[:,:-1].min())/(base.iloc[:,:-1].max()-base.iloc[:,:-1].min())\n",
    "\n",
    "    @staticmethod\n",
    "    def devide(base):\n",
    "        n = int(len(base)*0.7)\n",
    "        base_tren = base[:n]\n",
    "        base_valid = base[n:]\n",
    "        return(base_tren,base_valid)\n",
    "\n",
    "class Bayes:\n",
    "    \n",
    "    @staticmethod\n",
    "    def recoverTreningData(data):\n",
    "        # data = data.sort_values(\"variety\")\n",
    "        # setosaCount = data['variety'].value_counts().Setosa\n",
    "        # versicolorCount = data['variety'].value_counts().Versicolor\n",
    "        # virginicaCount = data['variety'].value_counts().Virginica\n",
    "        # return setosaCount, versicolorCount, virginicaCount\n",
    "        sortedData = [[],[],[]]\n",
    "\n",
    "        for i in range(len(data)):\n",
    "            current = data.iloc[i]\n",
    "            if current.variety == 'Setosa':\n",
    "                sortedData[0].append(current)\n",
    "            elif current.variety == 'Versicolor':\n",
    "                sortedData[1].append(current)\n",
    "            elif current.variety == 'Virginica':\n",
    "                sortedData[2].append(current)\n",
    "\n",
    "        return sortedData\n",
    "\n",
    "    @staticmethod\n",
    "    def meanMaker(sortedData):\n",
    "        meanTable = []\n",
    "        for j in range(0,3):\n",
    "            speciesTable = []\n",
    "            for k in range(0,4):\n",
    "                m = 0\n",
    "                for l in range(len(sortedData[j])):\n",
    "                    m += sortedData[j][l][k]\n",
    "                speciesTable.append(m/(len(sortedData[j])))\n",
    "            meanTable.append(speciesTable)\n",
    "        return meanTable\n",
    "\n",
    "    @staticmethod\n",
    "    def standardDeviation(sortedData,meanTable):\n",
    "        deviationTable = []\n",
    "        for j in range(0,3):\n",
    "            speciesTable = []\n",
    "            for k in range(0,4):\n",
    "                ro = 0\n",
    "                for l in range(len(sortedData[j])):\n",
    "                    ro += pow(sortedData[j][l][k]-meanTable[j][k],2)\n",
    "                ro = ((1/len(sortedData[j]))*ro)**(1/2)\n",
    "                speciesTable.append(ro)\n",
    "            deviationTable.append(speciesTable)\n",
    "        return deviationTable\n",
    "\n",
    "    @staticmethod\n",
    "    def gauss(validate_data,meanTable,deviationTable):\n",
    "        correct = 0\n",
    "        for i in range(len(validate_data)):\n",
    "            trueName = validate_data.iloc[i].variety\n",
    "            points = []\n",
    "            for j in range(0,3):\n",
    "                g = 1\n",
    "                for k in range(0,4):\n",
    "                    g *= (1/(((2*math.pi)**(1/2))*deviationTable[j][k])*math.exp(-((validate_data.iloc[i][k]-meanTable[j][k])**2)/(2*(deviationTable[j][k])**2)))\n",
    "                points.append(g)\n",
    "            guessedName = \"\"\n",
    "            if np.argmax(points)==0:\n",
    "                guessedName = \"Setosa\"\n",
    "            elif np.argmax(points)==1:\n",
    "                guessedName = \"Versicolor\"\n",
    "            else:\n",
    "                guessedName = \"Virginica\"\n",
    "\n",
    "            if guessedName == trueName:\n",
    "                correct+=1\n",
    "        return \"Accuracy {:.2f}% => {}/{}\".format(correct*100/len(validate_data),correct,len(validate_data))\n",
    "        #return correct*100/len(validate_data)\n",
    "        \n",
    "irisEdit = iris.copy()\n",
    "\n",
    "ProcessingData.shuffle(irisEdit)\n",
    "ProcessingData.normalize(irisEdit)\n",
    "trening_data,validate_data = ProcessingData.devide(irisEdit)"
   ]
  },
  {
   "cell_type": "code",
   "execution_count": 236,
   "metadata": {
    "tags": []
   },
   "outputs": [],
   "source": [
    "#setosaCount, versicolorCount, virginicaCount = Bayes.recoverTreningData(trening_data)"
   ]
  },
  {
   "cell_type": "code",
   "execution_count": 237,
   "metadata": {},
   "outputs": [],
   "source": [
    "sortedData = Bayes.recoverTreningData(trening_data)"
   ]
  },
  {
   "cell_type": "code",
   "execution_count": 238,
   "metadata": {},
   "outputs": [],
   "source": [
    "meanTable = Bayes.meanMaker(sortedData)"
   ]
  },
  {
   "cell_type": "code",
   "execution_count": 239,
   "metadata": {},
   "outputs": [],
   "source": [
    "deviationTable = Bayes.standardDeviation(sortedData,meanTable)"
   ]
  },
  {
   "cell_type": "code",
   "execution_count": 240,
   "metadata": {},
   "outputs": [
    {
     "data": {
      "text/plain": [
       "'Accuracy 93.33% => 42/45'"
      ]
     },
     "execution_count": 240,
     "metadata": {},
     "output_type": "execute_result"
    }
   ],
   "source": [
    "Bayes.gauss(validate_data,meanTable,deviationTable)"
   ]
  }
 ],
 "metadata": {
  "kernelspec": {
   "display_name": "Python 3",
   "name": "python3"
  },
  "language_info": {
   "codemirror_mode": {
    "name": "ipython",
    "version": 3
   },
   "file_extension": ".py",
   "mimetype": "text/x-python",
   "name": "python",
   "nbconvert_exporter": "python",
   "pygments_lexer": "ipython3",
   "version": "3.9.7"
  },
  "orig_nbformat": 2
 },
 "nbformat": 4,
 "nbformat_minor": 2
}
