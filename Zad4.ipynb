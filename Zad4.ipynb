{
 "cells": [
  {
   "cell_type": "code",
   "execution_count": 255,
   "metadata": {
    "tags": []
   },
   "outputs": [],
   "source": [
    "import pandas as pd\n",
    "import seaborn as sns\n",
    "import random\n",
    "import numpy as np\n",
    "import math\n",
    "iris = pd.read_csv('iris.csv')\n",
    "\n",
    "class ProcessingData:\n",
    "    \n",
    "    @staticmethod\n",
    "    def shuffle(base):\n",
    "        for x in range(len(base)-1,0,-1):\n",
    "            newPlace = random.randint(0,x-1)\n",
    "            base.loc[x],base.loc[newPlace]=base.loc[newPlace],base.loc[x]\n",
    "            \n",
    "    @staticmethod\n",
    "    def normalize(base):\n",
    "        base.iloc[:,:-1] = (base.iloc[:,:-1]-base.iloc[:,:-1].min())/(base.iloc[:,:-1].max()-base.iloc[:,:-1].min())\n",
    "\n",
    "    @staticmethod\n",
    "    def devide(base):\n",
    "        n = int(len(base)*0.7)\n",
    "        base_tren = base[:n]\n",
    "        base_valid = base[n:]\n",
    "        return(base_tren,base_valid)\n",
    "\n",
    "class Bayes:\n",
    "    \n",
    "    @staticmethod\n",
    "    def recoverTreningData(data):\n",
    "        sortedData = []\n",
    "        sort = data.groupby(data.variety)\n",
    "        sortedData.append(sort.get_group(\"Setosa\"))\n",
    "        sortedData.append(sort.get_group(\"Versicolor\"))\n",
    "        sortedData.append(sort.get_group(\"Virginica\"))\n",
    "\n",
    "        return sortedData\n",
    "\n",
    "    @staticmethod\n",
    "    def meanMaker(sortedData):\n",
    "        meanTable = []\n",
    "        for j in range(len(sortedData)):\n",
    "            meanTable.append(sortedData[j].mean(numeric_only=True).tolist())\n",
    "        return meanTable\n",
    "\n",
    "    @staticmethod\n",
    "    def standardDeviation(sortedData,meanTable):\n",
    "        deviationTable = []\n",
    "        for j in range(len(sortedData)):\n",
    "            deviationTable.append(sortedData[j].std(numeric_only=True).tolist())\n",
    "        return deviationTable\n",
    "\n",
    "    @staticmethod\n",
    "    def gauss(validate_data,meanTable,deviationTable):\n",
    "        correct = 0\n",
    "        varieties = [\"Setosa\",\"Versicolor\",\"Virginica\"]\n",
    "        for i in range(len(validate_data)):\n",
    "            trueName = validate_data.iloc[i].variety\n",
    "            points = []\n",
    "            for j in range(len(sortedData)):\n",
    "                g = 1\n",
    "                for k in range(len(sortedData[j].columns)-1):\n",
    "                    g *= (1/(((2*math.pi)**(1/2))*deviationTable[j][k])*math.exp(-((validate_data.iloc[i][k]-meanTable[j][k])**2)/(2*(deviationTable[j][k])**2)))\n",
    "                points.append(g)\n",
    "            guessedName = varieties[np.argmax(points)]\n",
    "\n",
    "            if guessedName == trueName:\n",
    "                correct+=1\n",
    "        return \"Accuracy {:.2f}% => {}/{}\".format(correct*100/len(validate_data),correct,len(validate_data))\n",
    "        \n",
    "irisEdit = iris.copy()\n",
    "\n",
    "ProcessingData.shuffle(irisEdit)\n",
    "ProcessingData.normalize(irisEdit)\n",
    "trening_data,validate_data = ProcessingData.devide(irisEdit)"
   ]
  },
  {
   "cell_type": "code",
   "execution_count": 256,
   "metadata": {},
   "outputs": [],
   "source": [
    "sortedData = Bayes.recoverTreningData(trening_data)"
   ]
  },
  {
   "cell_type": "code",
   "execution_count": 257,
   "metadata": {},
   "outputs": [],
   "source": [
    "meanTable = Bayes.meanMaker(sortedData)"
   ]
  },
  {
   "cell_type": "code",
   "execution_count": 258,
   "metadata": {},
   "outputs": [],
   "source": [
    "deviationTable = Bayes.standardDeviation(sortedData,meanTable)"
   ]
  },
  {
   "cell_type": "code",
   "execution_count": 259,
   "metadata": {},
   "outputs": [
    {
     "data": {
      "text/plain": [
       "'Accuracy 95.56% => 43/45'"
      ]
     },
     "execution_count": 259,
     "metadata": {},
     "output_type": "execute_result"
    }
   ],
   "source": [
    "Bayes.gauss(validate_data,meanTable,deviationTable)"
   ]
  }
 ],
 "metadata": {
  "kernelspec": {
   "display_name": "Python 3",
   "name": "python3"
  },
  "language_info": {
   "codemirror_mode": {
    "name": "ipython",
    "version": 3
   },
   "file_extension": ".py",
   "mimetype": "text/x-python",
   "name": "python",
   "nbconvert_exporter": "python",
   "pygments_lexer": "ipython3",
   "version": "3.10.0"
  },
  "orig_nbformat": 2
 },
 "nbformat": 4,
 "nbformat_minor": 2
}
