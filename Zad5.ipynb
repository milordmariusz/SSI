{
 "cells": [
  {
   "cell_type": "code",
   "execution_count": 314,
   "metadata": {},
   "outputs": [],
   "source": [
    "import pandas as pd\n",
    "import seaborn as sns\n",
    "import random\n",
    "import numpy as np\n",
    "import math\n",
    "iris = pd.read_csv('iris.csv')\n",
    "\n",
    "class ProcessingData:\n",
    "    \n",
    "    @staticmethod\n",
    "    def shuffle(base):\n",
    "        for x in range(len(base)-1,0,-1):\n",
    "            newPlace = random.randint(0,x-1)\n",
    "            base.loc[x],base.loc[newPlace]=base.loc[newPlace],base.loc[x]\n",
    "            \n",
    "    @staticmethod\n",
    "    def normalize(base):\n",
    "        base.iloc[:,:-1] = (base.iloc[:,:-1]-base.iloc[:,:-1].min())/(base.iloc[:,:-1].max()-base.iloc[:,:-1].min())\n",
    "\n",
    "    @staticmethod\n",
    "    def devide(base):\n",
    "        n = int(len(base)*0.7)\n",
    "        base_tren = base[:n]\n",
    "        base_valid = base[n:]\n",
    "        return(base_tren,base_valid)\n",
    "\n",
    "class Bayes:\n",
    "    \n",
    "    @staticmethod\n",
    "    def recoverTreningData(data):\n",
    "        sortedData = []\n",
    "        sort = data.groupby(data.variety)\n",
    "        sortedData.append(sort.get_group(\"Setosa\"))\n",
    "        sortedData.append(sort.get_group(\"Versicolor\"))\n",
    "        sortedData.append(sort.get_group(\"Virginica\"))\n",
    "\n",
    "        return sortedData\n",
    "\n",
    "    @staticmethod\n",
    "    def meanMaker(sortedData):\n",
    "        meanTable = []\n",
    "        for j in range(len(sortedData)):\n",
    "            meanTable.append(sortedData[j].mean(numeric_only=True).tolist())\n",
    "        return meanTable\n",
    "\n",
    "    @staticmethod\n",
    "    def make10Table(data,meanTable):\n",
    "        oneZeroTable = []\n",
    "        for j in range(len(data)):\n",
    "            speciesTable = []\n",
    "            for k in range(len(data[j].columns)-1):\n",
    "                smaller = data[j][data[j].iloc[:,k] < meanTable[j][k]].count()\n",
    "                bigger = len(data[j]) - smaller\n",
    "                \n",
    "                if smaller[k] > bigger[k]:\n",
    "                    speciesTable.extend([1,0])\n",
    "                else:\n",
    "                     speciesTable.extend([0,1])\n",
    "            oneZeroTable.append(speciesTable)\n",
    "        return oneZeroTable\n",
    "\n",
    "    @staticmethod\n",
    "    def softSet(validate_data,oneZeroTable,meanTable):\n",
    "        correct = 0\n",
    "        varieties = [\"Setosa\",\"Versicolor\",\"Virginica\"]\n",
    "        for i in range(len(validate_data)):\n",
    "            trueName = validate_data.iloc[i].variety\n",
    "            oneZeroValidate = []\n",
    "            for j in range(len(meanTable)):\n",
    "                oneZeroValidateOne = []\n",
    "                for k in range(len(validate_data.iloc[i])-1):\n",
    "                    if validate_data.iloc[i][k] < meanTable[j][k]:\n",
    "                        oneZeroValidateOne.extend([1,0])\n",
    "                    else:\n",
    "                        oneZeroValidateOne.extend([0,1])\n",
    "                oneZeroValidate.append(oneZeroValidateOne)\n",
    "                 \n",
    "            tableOfSums = []\n",
    "            for j in range(len(oneZeroValidate)):\n",
    "                suma = 0\n",
    "                for sum in range(len(oneZeroValidate[j])):\n",
    "                    suma+=oneZeroValidate[j][sum]*oneZeroTable[j][sum]\n",
    "                tableOfSums.append(suma)\n",
    "                \n",
    "\n",
    "            guessedName = varieties[np.argmax(tableOfSums)]\n",
    "\n",
    "            if guessedName == trueName:\n",
    "                correct+=1\n",
    "                \n",
    "        return correct,correct/len(validate_data)*100\n"
   ]
  },
  {
   "cell_type": "code",
   "execution_count": 315,
   "metadata": {},
   "outputs": [],
   "source": [
    "irisEdit = iris.copy()\n",
    "\n",
    "ProcessingData.shuffle(irisEdit)\n",
    "ProcessingData.normalize(irisEdit)\n",
    "trening_data,validate_data = ProcessingData.devide(irisEdit)"
   ]
  },
  {
   "cell_type": "code",
   "execution_count": 316,
   "metadata": {},
   "outputs": [],
   "source": [
    "sortedData = Bayes.recoverTreningData(trening_data)"
   ]
  },
  {
   "cell_type": "code",
   "execution_count": 317,
   "metadata": {
    "tags": []
   },
   "outputs": [],
   "source": [
    "meanTable = Bayes.meanMaker(sortedData)"
   ]
  },
  {
   "cell_type": "code",
   "execution_count": 318,
   "metadata": {
    "tags": []
   },
   "outputs": [],
   "source": [
    "oneZeroTable = Bayes.make10Table(sortedData,meanTable)"
   ]
  },
  {
   "cell_type": "code",
   "execution_count": 319,
   "metadata": {
    "tags": []
   },
   "outputs": [
    {
     "name": "stdout",
     "output_type": "stream",
     "text": [
      "21/45 accuracy => 46.67%\n"
     ]
    }
   ],
   "source": [
    "correct, accuracy = Bayes.softSet(validate_data,oneZeroTable,meanTable)\n",
    "print(\"{}/{} accuracy => {:.2f}%\".format(correct,len(validate_data),accuracy))"
   ]
  }
 ],
 "metadata": {
  "interpreter": {
   "hash": "2848809a0406457d19d6c5e03bd7c1c65a9a4b3ca3756e5f289df3d38d677978"
  },
  "kernelspec": {
   "display_name": "Python 3.10.0 64-bit",
   "language": "python",
   "name": "python3"
  },
  "language_info": {
   "codemirror_mode": {
    "name": "ipython",
    "version": 3
   },
   "file_extension": ".py",
   "mimetype": "text/x-python",
   "name": "python",
   "nbconvert_exporter": "python",
   "pygments_lexer": "ipython3",
   "version": "3.10.0"
  },
  "orig_nbformat": 2
 },
 "nbformat": 4,
 "nbformat_minor": 2
}
