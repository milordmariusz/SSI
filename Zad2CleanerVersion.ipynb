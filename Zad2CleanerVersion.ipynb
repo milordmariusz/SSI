{
 "cells": [
  {
   "cell_type": "code",
   "execution_count": 43,
   "metadata": {},
   "outputs": [],
   "source": [
    "import pandas as pd\n",
    "import seaborn as sns\n",
    "import random\n",
    "import numpy as np\n",
    "import math\n",
    "iris = pd.read_csv('iris.csv')\n",
    "\n",
    "class ProcessingData:\n",
    "    \n",
    "    @staticmethod\n",
    "    def shuffle(base):\n",
    "        for x in range(len(base)-1,0,-1):\n",
    "            newPlace = random.randint(0,x-1)\n",
    "            base.loc[x],base.loc[newPlace]=base.loc[newPlace],base.loc[x]\n",
    "            \n",
    "    @staticmethod\n",
    "    def normalize(base):\n",
    "        base.iloc[:,:-1] = (base.iloc[:,:-1]-base.iloc[:,:-1].min())/(base.iloc[:,:-1].max()-base.iloc[:,:-1].min())\n",
    "\n",
    "    @staticmethod\n",
    "    def devide(base):\n",
    "        n = int(len(base)*0.7)\n",
    "        base_tren = base[:n]\n",
    "        base_valid = base[n:]\n",
    "        return(base_tren,base_valid)\n",
    "\n",
    "class KNN:\n",
    "\n",
    "    def distance(x, y, m):\n",
    "        dist = 0\n",
    "        for i in range(len(y)-1):\n",
    "            dist += abs(x[i]-y[i])**m\n",
    "        dist = float(dist**(1/m))\n",
    "        return dist\n",
    "\n",
    "    @staticmethod   \n",
    "    def GetDistance(v):\n",
    "          return v[1]\n",
    "\n",
    "    @staticmethod\n",
    "    def clustering(validate_data, training_data, k, m):\n",
    "        correct = 0\n",
    "        for sampleId in range(len(validate_data)):\n",
    "            distances = list()\n",
    "            sample = validate_data.iloc[sampleId]\n",
    "            trueName = sample.variety\n",
    "            for i in range(len(training_data)):\n",
    "                distance = KNN.distance(sample,training_data.iloc[i],m)\n",
    "                distances.append((training_data.iloc[i],distance))\n",
    "                \n",
    "            distances.sort(key=KNN.GetDistance)\n",
    "            \n",
    "            classes = {'Setosa':0,'Versicolor':0,'Virginica':0}\n",
    "            for i in range(k):\n",
    "                classes[distances[i][0].variety] +=1\n",
    "\n",
    "            if trueName ==  max(classes, key=classes.get):\n",
    "                correct+=1\n",
    "        return correct/len(validate_data)*100\n",
    "        \n",
    "        \n",
    "    "
   ]
  },
  {
   "cell_type": "code",
   "execution_count": 44,
   "metadata": {},
   "outputs": [],
   "source": [
    "irisEdit = iris.copy()\n",
    "\n",
    "ProcessingData.shuffle(irisEdit)\n",
    "ProcessingData.normalize(irisEdit)\n",
    "trening_data,validate_data = ProcessingData.devide(irisEdit)"
   ]
  },
  {
   "cell_type": "code",
   "execution_count": 45,
   "metadata": {},
   "outputs": [
    {
     "name": "stdout",
     "output_type": "stream",
     "text": [
      "k=2 m=2 => Dokładność - 95.56%\n",
      "k=3 m=2 => Dokładność - 95.56%\n",
      "k=4 m=2 => Dokładność - 97.78%\n"
     ]
    }
   ],
   "source": [
    "m = 2\n",
    "for k in range (2,5):\n",
    "    print(\"k={} m={} => Dokładność - {:.2f}%\".format(k,m,KNN.clustering(validate_data,trening_data,k,m)))"
   ]
  }
 ],
 "metadata": {
  "interpreter": {
   "hash": "2848809a0406457d19d6c5e03bd7c1c65a9a4b3ca3756e5f289df3d38d677978"
  },
  "kernelspec": {
   "display_name": "Python 3.10.0 64-bit",
   "language": "python",
   "name": "python3"
  },
  "language_info": {
   "codemirror_mode": {
    "name": "ipython",
    "version": 3
   },
   "file_extension": ".py",
   "mimetype": "text/x-python",
   "name": "python",
   "nbconvert_exporter": "python",
   "pygments_lexer": "ipython3",
   "version": "3.10.0"
  },
  "orig_nbformat": 4
 },
 "nbformat": 4,
 "nbformat_minor": 2
}
